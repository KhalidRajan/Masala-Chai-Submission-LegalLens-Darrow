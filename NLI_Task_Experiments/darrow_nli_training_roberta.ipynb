{
 "cells": [
  {
   "cell_type": "code",
   "execution_count": 93,
   "metadata": {},
   "outputs": [],
   "source": [
    "from transformers import AutoTokenizer, AutoModelForSequenceClassification, Trainer, TrainingArguments\n",
    "from datasets import load_dataset\n",
    "import numpy as np\n",
    "import pandas as pd\n",
    "from sklearn.metrics import accuracy_score, precision_recall_fscore_support\n",
    "from datasets import Dataset"
   ]
  },
  {
   "cell_type": "code",
   "execution_count": 94,
   "metadata": {},
   "outputs": [],
   "source": [
    "df = pd.read_csv(\"hf://datasets/darrow-ai/LegalLensNLI-SharedTask/NLI.csv\")"
   ]
  },
  {
   "cell_type": "code",
   "execution_count": 95,
   "metadata": {},
   "outputs": [
    {
     "data": {
      "text/html": [
       "<div>\n",
       "<style scoped>\n",
       "    .dataframe tbody tr th:only-of-type {\n",
       "        vertical-align: middle;\n",
       "    }\n",
       "\n",
       "    .dataframe tbody tr th {\n",
       "        vertical-align: top;\n",
       "    }\n",
       "\n",
       "    .dataframe thead th {\n",
       "        text-align: right;\n",
       "    }\n",
       "</style>\n",
       "<table border=\"1\" class=\"dataframe\">\n",
       "  <thead>\n",
       "    <tr style=\"text-align: right;\">\n",
       "      <th></th>\n",
       "      <th>premise</th>\n",
       "      <th>hypothesis</th>\n",
       "      <th>legal_act</th>\n",
       "      <th>label</th>\n",
       "      <th>Unnamed: 4</th>\n",
       "    </tr>\n",
       "  </thead>\n",
       "  <tbody>\n",
       "    <tr>\n",
       "      <th>0</th>\n",
       "      <td>DEFENDANT has reached a settlement in a class ...</td>\n",
       "      <td>Had to visit DEFENDANT a while back for some r...</td>\n",
       "      <td>privacy</td>\n",
       "      <td>Neutral</td>\n",
       "      <td>NaN</td>\n",
       "    </tr>\n",
       "    <tr>\n",
       "      <th>1</th>\n",
       "      <td>A class action lawsuit has been certified agai...</td>\n",
       "      <td>So, at 22, I was into this whole \"collect-and-...</td>\n",
       "      <td>consumer_protection</td>\n",
       "      <td>Entailed</td>\n",
       "      <td>NaN</td>\n",
       "    </tr>\n",
       "    <tr>\n",
       "      <th>2</th>\n",
       "      <td>DEFENDANT, an auto parts supplier, has agreed ...</td>\n",
       "      <td>As an employee of the aforementioned auto part...</td>\n",
       "      <td>consumer_protection</td>\n",
       "      <td>Contradict</td>\n",
       "      <td>NaN</td>\n",
       "    </tr>\n",
       "    <tr>\n",
       "      <th>3</th>\n",
       "      <td>DEFENDANT has agreed to pay $400,000 to settle...</td>\n",
       "      <td>Hey, got a call from DEFENDANT a while back, s...</td>\n",
       "      <td>privacy</td>\n",
       "      <td>Contradict</td>\n",
       "      <td>NaN</td>\n",
       "    </tr>\n",
       "    <tr>\n",
       "      <th>4</th>\n",
       "      <td>DEFENDANT and other health benefit companies h...</td>\n",
       "      <td>Just checked my mail, got a letter from DEFEND...</td>\n",
       "      <td>privacy</td>\n",
       "      <td>Neutral</td>\n",
       "      <td>NaN</td>\n",
       "    </tr>\n",
       "    <tr>\n",
       "      <th>...</th>\n",
       "      <td>...</td>\n",
       "      <td>...</td>\n",
       "      <td>...</td>\n",
       "      <td>...</td>\n",
       "      <td>...</td>\n",
       "    </tr>\n",
       "    <tr>\n",
       "      <th>307</th>\n",
       "      <td>DEFENDANT has reached a settlement in a breach...</td>\n",
       "      <td>Feeling a bit perplexed today. I've been a loy...</td>\n",
       "      <td>consumer_protection</td>\n",
       "      <td>Entailed</td>\n",
       "      <td>NaN</td>\n",
       "    </tr>\n",
       "    <tr>\n",
       "      <th>308</th>\n",
       "      <td>DEFENDANT, a seafood restaurant operator in Ca...</td>\n",
       "      <td>Had a fantastic seafood dinner at this place l...</td>\n",
       "      <td>privacy</td>\n",
       "      <td>Neutral</td>\n",
       "      <td>NaN</td>\n",
       "    </tr>\n",
       "    <tr>\n",
       "      <th>309</th>\n",
       "      <td>Consumers who received promotional text messag...</td>\n",
       "      <td>Hardly ever use my phone for anything other th...</td>\n",
       "      <td>tcpa</td>\n",
       "      <td>Neutral</td>\n",
       "      <td>NaN</td>\n",
       "    </tr>\n",
       "    <tr>\n",
       "      <th>310</th>\n",
       "      <td>DEFENDANT, a restaurant point-of-sale provider...</td>\n",
       "      <td>Upon my daily visits to the local diner, I fre...</td>\n",
       "      <td>privacy</td>\n",
       "      <td>Entailed</td>\n",
       "      <td>NaN</td>\n",
       "    </tr>\n",
       "    <tr>\n",
       "      <th>311</th>\n",
       "      <td>DEFENDANT, an automotive, industrial, and comm...</td>\n",
       "      <td>Working at DEFENDANT, clocking in with a simpl...</td>\n",
       "      <td>privacy</td>\n",
       "      <td>Entailed</td>\n",
       "      <td>NaN</td>\n",
       "    </tr>\n",
       "  </tbody>\n",
       "</table>\n",
       "<p>312 rows × 5 columns</p>\n",
       "</div>"
      ],
      "text/plain": [
       "                                               premise  \\\n",
       "0    DEFENDANT has reached a settlement in a class ...   \n",
       "1    A class action lawsuit has been certified agai...   \n",
       "2    DEFENDANT, an auto parts supplier, has agreed ...   \n",
       "3    DEFENDANT has agreed to pay $400,000 to settle...   \n",
       "4    DEFENDANT and other health benefit companies h...   \n",
       "..                                                 ...   \n",
       "307  DEFENDANT has reached a settlement in a breach...   \n",
       "308  DEFENDANT, a seafood restaurant operator in Ca...   \n",
       "309  Consumers who received promotional text messag...   \n",
       "310  DEFENDANT, a restaurant point-of-sale provider...   \n",
       "311  DEFENDANT, an automotive, industrial, and comm...   \n",
       "\n",
       "                                            hypothesis            legal_act  \\\n",
       "0    Had to visit DEFENDANT a while back for some r...              privacy   \n",
       "1    So, at 22, I was into this whole \"collect-and-...  consumer_protection   \n",
       "2    As an employee of the aforementioned auto part...  consumer_protection   \n",
       "3    Hey, got a call from DEFENDANT a while back, s...              privacy   \n",
       "4    Just checked my mail, got a letter from DEFEND...              privacy   \n",
       "..                                                 ...                  ...   \n",
       "307  Feeling a bit perplexed today. I've been a loy...  consumer_protection   \n",
       "308  Had a fantastic seafood dinner at this place l...              privacy   \n",
       "309  Hardly ever use my phone for anything other th...                 tcpa   \n",
       "310  Upon my daily visits to the local diner, I fre...              privacy   \n",
       "311  Working at DEFENDANT, clocking in with a simpl...              privacy   \n",
       "\n",
       "          label  Unnamed: 4  \n",
       "0       Neutral         NaN  \n",
       "1      Entailed         NaN  \n",
       "2    Contradict         NaN  \n",
       "3    Contradict         NaN  \n",
       "4       Neutral         NaN  \n",
       "..          ...         ...  \n",
       "307    Entailed         NaN  \n",
       "308     Neutral         NaN  \n",
       "309     Neutral         NaN  \n",
       "310    Entailed         NaN  \n",
       "311    Entailed         NaN  \n",
       "\n",
       "[312 rows x 5 columns]"
      ]
     },
     "execution_count": 95,
     "metadata": {},
     "output_type": "execute_result"
    }
   ],
   "source": [
    "df"
   ]
  },
  {
   "cell_type": "code",
   "execution_count": 96,
   "metadata": {},
   "outputs": [],
   "source": [
    "# Remove unnecessary columns\n",
    "df = df[[\"premise\", \"hypothesis\", \"label\"]]"
   ]
  },
  {
   "cell_type": "code",
   "execution_count": 97,
   "metadata": {},
   "outputs": [
    {
     "data": {
      "text/html": [
       "<div>\n",
       "<style scoped>\n",
       "    .dataframe tbody tr th:only-of-type {\n",
       "        vertical-align: middle;\n",
       "    }\n",
       "\n",
       "    .dataframe tbody tr th {\n",
       "        vertical-align: top;\n",
       "    }\n",
       "\n",
       "    .dataframe thead th {\n",
       "        text-align: right;\n",
       "    }\n",
       "</style>\n",
       "<table border=\"1\" class=\"dataframe\">\n",
       "  <thead>\n",
       "    <tr style=\"text-align: right;\">\n",
       "      <th></th>\n",
       "      <th>premise</th>\n",
       "      <th>hypothesis</th>\n",
       "      <th>label</th>\n",
       "    </tr>\n",
       "  </thead>\n",
       "  <tbody>\n",
       "    <tr>\n",
       "      <th>0</th>\n",
       "      <td>DEFENDANT has reached a settlement in a class ...</td>\n",
       "      <td>Had to visit DEFENDANT a while back for some r...</td>\n",
       "      <td>Neutral</td>\n",
       "    </tr>\n",
       "    <tr>\n",
       "      <th>1</th>\n",
       "      <td>A class action lawsuit has been certified agai...</td>\n",
       "      <td>So, at 22, I was into this whole \"collect-and-...</td>\n",
       "      <td>Entailed</td>\n",
       "    </tr>\n",
       "    <tr>\n",
       "      <th>2</th>\n",
       "      <td>DEFENDANT, an auto parts supplier, has agreed ...</td>\n",
       "      <td>As an employee of the aforementioned auto part...</td>\n",
       "      <td>Contradict</td>\n",
       "    </tr>\n",
       "    <tr>\n",
       "      <th>3</th>\n",
       "      <td>DEFENDANT has agreed to pay $400,000 to settle...</td>\n",
       "      <td>Hey, got a call from DEFENDANT a while back, s...</td>\n",
       "      <td>Contradict</td>\n",
       "    </tr>\n",
       "    <tr>\n",
       "      <th>4</th>\n",
       "      <td>DEFENDANT and other health benefit companies h...</td>\n",
       "      <td>Just checked my mail, got a letter from DEFEND...</td>\n",
       "      <td>Neutral</td>\n",
       "    </tr>\n",
       "    <tr>\n",
       "      <th>...</th>\n",
       "      <td>...</td>\n",
       "      <td>...</td>\n",
       "      <td>...</td>\n",
       "    </tr>\n",
       "    <tr>\n",
       "      <th>307</th>\n",
       "      <td>DEFENDANT has reached a settlement in a breach...</td>\n",
       "      <td>Feeling a bit perplexed today. I've been a loy...</td>\n",
       "      <td>Entailed</td>\n",
       "    </tr>\n",
       "    <tr>\n",
       "      <th>308</th>\n",
       "      <td>DEFENDANT, a seafood restaurant operator in Ca...</td>\n",
       "      <td>Had a fantastic seafood dinner at this place l...</td>\n",
       "      <td>Neutral</td>\n",
       "    </tr>\n",
       "    <tr>\n",
       "      <th>309</th>\n",
       "      <td>Consumers who received promotional text messag...</td>\n",
       "      <td>Hardly ever use my phone for anything other th...</td>\n",
       "      <td>Neutral</td>\n",
       "    </tr>\n",
       "    <tr>\n",
       "      <th>310</th>\n",
       "      <td>DEFENDANT, a restaurant point-of-sale provider...</td>\n",
       "      <td>Upon my daily visits to the local diner, I fre...</td>\n",
       "      <td>Entailed</td>\n",
       "    </tr>\n",
       "    <tr>\n",
       "      <th>311</th>\n",
       "      <td>DEFENDANT, an automotive, industrial, and comm...</td>\n",
       "      <td>Working at DEFENDANT, clocking in with a simpl...</td>\n",
       "      <td>Entailed</td>\n",
       "    </tr>\n",
       "  </tbody>\n",
       "</table>\n",
       "<p>312 rows × 3 columns</p>\n",
       "</div>"
      ],
      "text/plain": [
       "                                               premise  \\\n",
       "0    DEFENDANT has reached a settlement in a class ...   \n",
       "1    A class action lawsuit has been certified agai...   \n",
       "2    DEFENDANT, an auto parts supplier, has agreed ...   \n",
       "3    DEFENDANT has agreed to pay $400,000 to settle...   \n",
       "4    DEFENDANT and other health benefit companies h...   \n",
       "..                                                 ...   \n",
       "307  DEFENDANT has reached a settlement in a breach...   \n",
       "308  DEFENDANT, a seafood restaurant operator in Ca...   \n",
       "309  Consumers who received promotional text messag...   \n",
       "310  DEFENDANT, a restaurant point-of-sale provider...   \n",
       "311  DEFENDANT, an automotive, industrial, and comm...   \n",
       "\n",
       "                                            hypothesis       label  \n",
       "0    Had to visit DEFENDANT a while back for some r...     Neutral  \n",
       "1    So, at 22, I was into this whole \"collect-and-...    Entailed  \n",
       "2    As an employee of the aforementioned auto part...  Contradict  \n",
       "3    Hey, got a call from DEFENDANT a while back, s...  Contradict  \n",
       "4    Just checked my mail, got a letter from DEFEND...     Neutral  \n",
       "..                                                 ...         ...  \n",
       "307  Feeling a bit perplexed today. I've been a loy...    Entailed  \n",
       "308  Had a fantastic seafood dinner at this place l...     Neutral  \n",
       "309  Hardly ever use my phone for anything other th...     Neutral  \n",
       "310  Upon my daily visits to the local diner, I fre...    Entailed  \n",
       "311  Working at DEFENDANT, clocking in with a simpl...    Entailed  \n",
       "\n",
       "[312 rows x 3 columns]"
      ]
     },
     "execution_count": 97,
     "metadata": {},
     "output_type": "execute_result"
    }
   ],
   "source": [
    "df"
   ]
  },
  {
   "cell_type": "code",
   "execution_count": 98,
   "metadata": {},
   "outputs": [],
   "source": [
    "from sklearn.model_selection import train_test_split\n",
    "\n",
    "train_df, eval_df = train_test_split(df, test_size=0.3, random_state=42)"
   ]
  },
  {
   "cell_type": "code",
   "execution_count": 99,
   "metadata": {},
   "outputs": [
    {
     "data": {
      "text/html": [
       "<div>\n",
       "<style scoped>\n",
       "    .dataframe tbody tr th:only-of-type {\n",
       "        vertical-align: middle;\n",
       "    }\n",
       "\n",
       "    .dataframe tbody tr th {\n",
       "        vertical-align: top;\n",
       "    }\n",
       "\n",
       "    .dataframe thead th {\n",
       "        text-align: right;\n",
       "    }\n",
       "</style>\n",
       "<table border=\"1\" class=\"dataframe\">\n",
       "  <thead>\n",
       "    <tr style=\"text-align: right;\">\n",
       "      <th></th>\n",
       "      <th>premise</th>\n",
       "      <th>hypothesis</th>\n",
       "      <th>label</th>\n",
       "    </tr>\n",
       "  </thead>\n",
       "  <tbody>\n",
       "    <tr>\n",
       "      <th>101</th>\n",
       "      <td>A settlement has been reached in a class actio...</td>\n",
       "      <td>Having a blast with my computer, Wi-Fi's been ...</td>\n",
       "      <td>Contradict</td>\n",
       "    </tr>\n",
       "    <tr>\n",
       "      <th>193</th>\n",
       "      <td>DEFENDANT Aviation Services has agreed to pay ...</td>\n",
       "      <td>Been working at DEFENDANT Aviation Services fo...</td>\n",
       "      <td>Neutral</td>\n",
       "    </tr>\n",
       "    <tr>\n",
       "      <th>72</th>\n",
       "      <td>DEFENDANT-A and DEFENDANT-B Inc. have agreed t...</td>\n",
       "      <td>So I've been using this DEFENDANT-A software f...</td>\n",
       "      <td>Neutral</td>\n",
       "    </tr>\n",
       "    <tr>\n",
       "      <th>298</th>\n",
       "      <td>DEFENDANT, an HR company that provides timekee...</td>\n",
       "      <td>Anyone else used those UKG time clocks at work...</td>\n",
       "      <td>Entailed</td>\n",
       "    </tr>\n",
       "    <tr>\n",
       "      <th>15</th>\n",
       "      <td>DEFENDANT, a manufacturing company, has agreed...</td>\n",
       "      <td>Alright guys, remember that job I had at that ...</td>\n",
       "      <td>Entailed</td>\n",
       "    </tr>\n",
       "    <tr>\n",
       "      <th>...</th>\n",
       "      <td>...</td>\n",
       "      <td>...</td>\n",
       "      <td>...</td>\n",
       "    </tr>\n",
       "    <tr>\n",
       "      <th>188</th>\n",
       "      <td>DEFENDANT, has agreed to pay $16 million to se...</td>\n",
       "      <td>Been using DEFENDANT for quite a while now, an...</td>\n",
       "      <td>Contradict</td>\n",
       "    </tr>\n",
       "    <tr>\n",
       "      <th>71</th>\n",
       "      <td>DEFENDANT has settled a class action lawsuit o...</td>\n",
       "      <td>Been working at this company for a while now a...</td>\n",
       "      <td>Contradict</td>\n",
       "    </tr>\n",
       "    <tr>\n",
       "      <th>106</th>\n",
       "      <td>DEFENDANT and its franchisee have agreed to es...</td>\n",
       "      <td>Despite the numerous phone calls I've received...</td>\n",
       "      <td>Contradict</td>\n",
       "    </tr>\n",
       "    <tr>\n",
       "      <th>270</th>\n",
       "      <td>DEFENDANT has agreed to pay $7.2 million to se...</td>\n",
       "      <td>So, I've been getting a couple of calls from D...</td>\n",
       "      <td>Neutral</td>\n",
       "    </tr>\n",
       "    <tr>\n",
       "      <th>102</th>\n",
       "      <td>DEFENDANT has agreed to a $9.9 million settlem...</td>\n",
       "      <td>Just donated plasma at DEFENDANT, a noble act ...</td>\n",
       "      <td>Entailed</td>\n",
       "    </tr>\n",
       "  </tbody>\n",
       "</table>\n",
       "<p>218 rows × 3 columns</p>\n",
       "</div>"
      ],
      "text/plain": [
       "                                               premise  \\\n",
       "101  A settlement has been reached in a class actio...   \n",
       "193  DEFENDANT Aviation Services has agreed to pay ...   \n",
       "72   DEFENDANT-A and DEFENDANT-B Inc. have agreed t...   \n",
       "298  DEFENDANT, an HR company that provides timekee...   \n",
       "15   DEFENDANT, a manufacturing company, has agreed...   \n",
       "..                                                 ...   \n",
       "188  DEFENDANT, has agreed to pay $16 million to se...   \n",
       "71   DEFENDANT has settled a class action lawsuit o...   \n",
       "106  DEFENDANT and its franchisee have agreed to es...   \n",
       "270  DEFENDANT has agreed to pay $7.2 million to se...   \n",
       "102  DEFENDANT has agreed to a $9.9 million settlem...   \n",
       "\n",
       "                                            hypothesis       label  \n",
       "101  Having a blast with my computer, Wi-Fi's been ...  Contradict  \n",
       "193  Been working at DEFENDANT Aviation Services fo...     Neutral  \n",
       "72   So I've been using this DEFENDANT-A software f...     Neutral  \n",
       "298  Anyone else used those UKG time clocks at work...    Entailed  \n",
       "15   Alright guys, remember that job I had at that ...    Entailed  \n",
       "..                                                 ...         ...  \n",
       "188  Been using DEFENDANT for quite a while now, an...  Contradict  \n",
       "71   Been working at this company for a while now a...  Contradict  \n",
       "106  Despite the numerous phone calls I've received...  Contradict  \n",
       "270  So, I've been getting a couple of calls from D...     Neutral  \n",
       "102  Just donated plasma at DEFENDANT, a noble act ...    Entailed  \n",
       "\n",
       "[218 rows x 3 columns]"
      ]
     },
     "execution_count": 99,
     "metadata": {},
     "output_type": "execute_result"
    }
   ],
   "source": [
    "train_df"
   ]
  },
  {
   "cell_type": "code",
   "execution_count": 100,
   "metadata": {},
   "outputs": [
    {
     "data": {
      "text/html": [
       "<div>\n",
       "<style scoped>\n",
       "    .dataframe tbody tr th:only-of-type {\n",
       "        vertical-align: middle;\n",
       "    }\n",
       "\n",
       "    .dataframe tbody tr th {\n",
       "        vertical-align: top;\n",
       "    }\n",
       "\n",
       "    .dataframe thead th {\n",
       "        text-align: right;\n",
       "    }\n",
       "</style>\n",
       "<table border=\"1\" class=\"dataframe\">\n",
       "  <thead>\n",
       "    <tr style=\"text-align: right;\">\n",
       "      <th></th>\n",
       "      <th>premise</th>\n",
       "      <th>hypothesis</th>\n",
       "      <th>label</th>\n",
       "    </tr>\n",
       "  </thead>\n",
       "  <tbody>\n",
       "    <tr>\n",
       "      <th>228</th>\n",
       "      <td>DEFENDANT has agreed to a $5.25 million settle...</td>\n",
       "      <td>As a regular visitor to a certain company's fa...</td>\n",
       "      <td>Entailed</td>\n",
       "    </tr>\n",
       "    <tr>\n",
       "      <th>9</th>\n",
       "      <td>The DEFENDANT Text Message Class Action Settle...</td>\n",
       "      <td>Been receiving way too many texts from DEFENDA...</td>\n",
       "      <td>Entailed</td>\n",
       "    </tr>\n",
       "    <tr>\n",
       "      <th>57</th>\n",
       "      <td>DEFENDANT has agreed to pay $7.5 million to se...</td>\n",
       "      <td>Stumbled upon my former employer in the news t...</td>\n",
       "      <td>Contradict</td>\n",
       "    </tr>\n",
       "    <tr>\n",
       "      <th>60</th>\n",
       "      <td>DEFENDANT, a hospital in Dixon, Illinois, has ...</td>\n",
       "      <td>So, there's this hospital in Dixon I went to a...</td>\n",
       "      <td>Neutral</td>\n",
       "    </tr>\n",
       "    <tr>\n",
       "      <th>25</th>\n",
       "      <td>DEFENDANT, a company that provides ambulance a...</td>\n",
       "      <td>Recently started using the handprint clock-in ...</td>\n",
       "      <td>Neutral</td>\n",
       "    </tr>\n",
       "    <tr>\n",
       "      <th>...</th>\n",
       "      <td>...</td>\n",
       "      <td>...</td>\n",
       "      <td>...</td>\n",
       "    </tr>\n",
       "    <tr>\n",
       "      <th>304</th>\n",
       "      <td>A verdict has been reached against DEFENDANT f...</td>\n",
       "      <td>It's rather interesting, I've been using DEFEN...</td>\n",
       "      <td>Neutral</td>\n",
       "    </tr>\n",
       "    <tr>\n",
       "      <th>19</th>\n",
       "      <td>DEFENDANT, a home healthcare services company,...</td>\n",
       "      <td>Hey, folks! So, I've been using this home heal...</td>\n",
       "      <td>Neutral</td>\n",
       "    </tr>\n",
       "    <tr>\n",
       "      <th>147</th>\n",
       "      <td>DEFENDANT has agreed to a $12.75 million settl...</td>\n",
       "      <td>Feeling quite content with my employment situa...</td>\n",
       "      <td>Contradict</td>\n",
       "    </tr>\n",
       "    <tr>\n",
       "      <th>92</th>\n",
       "      <td>DEFENDANT has agreed to pay $975,000 to settle...</td>\n",
       "      <td>Hey folks, I've been getting these calls from ...</td>\n",
       "      <td>Contradict</td>\n",
       "    </tr>\n",
       "    <tr>\n",
       "      <th>79</th>\n",
       "      <td>DEFENDANT has agreed to pay over $2.38 million...</td>\n",
       "      <td>Been clocking in and out with a quick scan at ...</td>\n",
       "      <td>Contradict</td>\n",
       "    </tr>\n",
       "  </tbody>\n",
       "</table>\n",
       "<p>94 rows × 3 columns</p>\n",
       "</div>"
      ],
      "text/plain": [
       "                                               premise  \\\n",
       "228  DEFENDANT has agreed to a $5.25 million settle...   \n",
       "9    The DEFENDANT Text Message Class Action Settle...   \n",
       "57   DEFENDANT has agreed to pay $7.5 million to se...   \n",
       "60   DEFENDANT, a hospital in Dixon, Illinois, has ...   \n",
       "25   DEFENDANT, a company that provides ambulance a...   \n",
       "..                                                 ...   \n",
       "304  A verdict has been reached against DEFENDANT f...   \n",
       "19   DEFENDANT, a home healthcare services company,...   \n",
       "147  DEFENDANT has agreed to a $12.75 million settl...   \n",
       "92   DEFENDANT has agreed to pay $975,000 to settle...   \n",
       "79   DEFENDANT has agreed to pay over $2.38 million...   \n",
       "\n",
       "                                            hypothesis       label  \n",
       "228  As a regular visitor to a certain company's fa...    Entailed  \n",
       "9    Been receiving way too many texts from DEFENDA...    Entailed  \n",
       "57   Stumbled upon my former employer in the news t...  Contradict  \n",
       "60   So, there's this hospital in Dixon I went to a...     Neutral  \n",
       "25   Recently started using the handprint clock-in ...     Neutral  \n",
       "..                                                 ...         ...  \n",
       "304  It's rather interesting, I've been using DEFEN...     Neutral  \n",
       "19   Hey, folks! So, I've been using this home heal...     Neutral  \n",
       "147  Feeling quite content with my employment situa...  Contradict  \n",
       "92   Hey folks, I've been getting these calls from ...  Contradict  \n",
       "79   Been clocking in and out with a quick scan at ...  Contradict  \n",
       "\n",
       "[94 rows x 3 columns]"
      ]
     },
     "execution_count": 100,
     "metadata": {},
     "output_type": "execute_result"
    }
   ],
   "source": [
    "eval_df"
   ]
  },
  {
   "cell_type": "code",
   "execution_count": 101,
   "metadata": {},
   "outputs": [],
   "source": [
    "label_to_id = {'Entailed': 0, 'Contradict': 1, 'Neutral': 2}\n",
    "id_to_label = {0: 'Entailed', 1: 'Contradict', 2: 'Neutral'}"
   ]
  },
  {
   "cell_type": "code",
   "execution_count": 114,
   "metadata": {},
   "outputs": [],
   "source": [
    "def encode_labels(example):\n",
    "    example['label'] = label_to_id[example['label']]\n",
    "    return example"
   ]
  },
  {
   "cell_type": "code",
   "execution_count": 103,
   "metadata": {},
   "outputs": [],
   "source": [
    "train_dataset = Dataset.from_pandas(train_df)\n",
    "eval_dataset = Dataset.from_pandas(eval_df)"
   ]
  },
  {
   "cell_type": "code",
   "execution_count": 104,
   "metadata": {},
   "outputs": [],
   "source": [
    "model_checkpoint = 'FacebookAI/roberta-base'"
   ]
  },
  {
   "cell_type": "code",
   "execution_count": 105,
   "metadata": {},
   "outputs": [
    {
     "name": "stderr",
     "output_type": "stream",
     "text": [
      "/Users/khalidrajan/anaconda3/envs/nli_task/lib/python3.12/site-packages/transformers/tokenization_utils_base.py:1601: FutureWarning: `clean_up_tokenization_spaces` was not set. It will be set to `True` by default. This behavior will be depracted in transformers v4.45, and will be then set to `False` by default. For more details check this issue: https://github.com/huggingface/transformers/issues/31884\n",
      "  warnings.warn(\n"
     ]
    }
   ],
   "source": [
    "tokenizer = AutoTokenizer.from_pretrained(model_checkpoint)"
   ]
  },
  {
   "cell_type": "code",
   "execution_count": 106,
   "metadata": {},
   "outputs": [],
   "source": [
    "def preprocess(data):\n",
    "    return tokenizer(data['premise'], data['hypothesis'], padding=True, truncation=True)"
   ]
  },
  {
   "cell_type": "code",
   "execution_count": 107,
   "metadata": {},
   "outputs": [
    {
     "name": "stderr",
     "output_type": "stream",
     "text": [
      "\n",
      "Map: 100%|██████████| 218/218 [00:00<00:00, 4547.35 examples/s]\n",
      "\n",
      "Map: 100%|██████████| 94/94 [00:00<00:00, 4582.66 examples/s]\n"
     ]
    }
   ],
   "source": [
    "encoded_train_dataset = train_dataset.map(preprocess, batched=True)\n",
    "encoded_eval_dataset = eval_dataset.map(preprocess, batched=True)"
   ]
  },
  {
   "cell_type": "code",
   "execution_count": 117,
   "metadata": {},
   "outputs": [
    {
     "name": "stderr",
     "output_type": "stream",
     "text": [
      "\n",
      "Map: 100%|██████████| 218/218 [00:00<00:00, 14318.62 examples/s]\n",
      "\n",
      "Map: 100%|██████████| 94/94 [00:00<00:00, 11736.86 examples/s]\n"
     ]
    }
   ],
   "source": [
    "encoded_train_dataset = encoded_train_dataset.map(encode_labels)\n",
    "encoded_eval_dataset = encoded_eval_dataset.map(encode_labels)"
   ]
  },
  {
   "cell_type": "code",
   "execution_count": 109,
   "metadata": {},
   "outputs": [
    {
     "name": "stderr",
     "output_type": "stream",
     "text": [
      "Some weights of RobertaForSequenceClassification were not initialized from the model checkpoint at FacebookAI/roberta-base and are newly initialized: ['classifier.dense.bias', 'classifier.dense.weight', 'classifier.out_proj.bias', 'classifier.out_proj.weight']\n",
      "You should probably TRAIN this model on a down-stream task to be able to use it for predictions and inference.\n"
     ]
    }
   ],
   "source": [
    "# Prepare the RoBERTa model\n",
    "model = AutoModelForSequenceClassification.from_pretrained(model_checkpoint, num_labels=3, id2label = id_to_label, label2id = label_to_id)"
   ]
  },
  {
   "cell_type": "code",
   "execution_count": 110,
   "metadata": {},
   "outputs": [],
   "source": [
    "# Define the compute_metrics function\n",
    "def compute_metrics(eval_pred):\n",
    "    logits, labels = eval_pred\n",
    "    predictions = np.argmax(logits, axis=-1)\n",
    "    accuracy = accuracy_score(labels, predictions)\n",
    "    precision, recall, f1, _ = precision_recall_fscore_support(labels, predictions, average='macro')\n",
    "    return {\n",
    "        'accuracy': accuracy,\n",
    "        'precision': precision,\n",
    "        'recall': recall,\n",
    "        'f1': f1,\n",
    "    }"
   ]
  },
  {
   "cell_type": "code",
   "execution_count": 119,
   "metadata": {},
   "outputs": [
    {
     "name": "stderr",
     "output_type": "stream",
     "text": [
      "/Users/khalidrajan/anaconda3/envs/nli_task/lib/python3.12/site-packages/transformers/training_args.py:1525: FutureWarning: `evaluation_strategy` is deprecated and will be removed in version 4.46 of 🤗 Transformers. Use `eval_strategy` instead\n",
      "  warnings.warn(\n"
     ]
    }
   ],
   "source": [
    "# Define training arguments\n",
    "training_args = TrainingArguments(\n",
    "    output_dir=f\"{model_checkpoint}_legal_nli_finetuned\",\n",
    "    evaluation_strategy=\"epoch\",\n",
    "    learning_rate=2e-5,\n",
    "    num_train_epochs=10,\n",
    "    weight_decay=0.01,\n",
    ")\n",
    "\n",
    "trainer = Trainer(\n",
    "    model=model,\n",
    "    args=training_args,\n",
    "    train_dataset=encoded_train_dataset,\n",
    "    eval_dataset=encoded_eval_dataset,\n",
    "    tokenizer=tokenizer,\n",
    "    compute_metrics=compute_metrics,\n",
    ")"
   ]
  },
  {
   "cell_type": "code",
   "execution_count": 120,
   "metadata": {},
   "outputs": [
    {
     "name": "stderr",
     "output_type": "stream",
     "text": [
      "  0%|          | 0/280 [05:38<?, ?it/s]\n",
      " 10%|█         | 28/280 [00:26<04:51,  1.16s/it]\n",
      "\u001b[A\n",
      "\u001b[A\n",
      "\u001b[A\n",
      "\u001b[A\n",
      "\u001b[A\n",
      "\u001b[A\n",
      "\u001b[A\n",
      "\u001b[A\n",
      "\u001b[A\n",
      "\u001b[A\n",
      "\u001b[A\n",
      "\u001b[A/Users/khalidrajan/anaconda3/envs/nli_task/lib/python3.12/site-packages/sklearn/metrics/_classification.py:1531: UndefinedMetricWarning: Precision is ill-defined and being set to 0.0 in labels with no predicted samples. Use `zero_division` parameter to control this behavior.\n",
      "  _warn_prf(average, modifier, f\"{metric.capitalize()} is\", len(result))\n",
      "\n",
      "\n",
      "                                                \n",
      "\u001b[A                                    \n",
      " 10%|█         | 28/280 [00:29<04:51,  1.16s/it]\n",
      "\u001b[A"
     ]
    },
    {
     "name": "stdout",
     "output_type": "stream",
     "text": [
      "{'eval_loss': 1.097902536392212, 'eval_accuracy': 0.30851063829787234, 'eval_precision': 0.10283687943262411, 'eval_recall': 0.3333333333333333, 'eval_f1': 0.15718157181571815, 'eval_runtime': 3.3455, 'eval_samples_per_second': 28.097, 'eval_steps_per_second': 3.587, 'epoch': 1.0}\n"
     ]
    },
    {
     "name": "stderr",
     "output_type": "stream",
     "text": [
      " 20%|██        | 56/280 [00:50<02:17,  1.63it/s]\n",
      "\u001b[A\n",
      "\u001b[A\n",
      "\u001b[A\n",
      "\u001b[A\n",
      "\u001b[A\n",
      "\u001b[A\n",
      "\u001b[A\n",
      "\u001b[A\n",
      "\u001b[A\n",
      "\u001b[A\n",
      "\u001b[A\n",
      "\u001b[A/Users/khalidrajan/anaconda3/envs/nli_task/lib/python3.12/site-packages/sklearn/metrics/_classification.py:1531: UndefinedMetricWarning: Precision is ill-defined and being set to 0.0 in labels with no predicted samples. Use `zero_division` parameter to control this behavior.\n",
      "  _warn_prf(average, modifier, f\"{metric.capitalize()} is\", len(result))\n",
      "\n",
      "\n",
      "                                                \n",
      "\u001b[A                                    \n",
      " 20%|██        | 56/280 [00:53<02:17,  1.63it/s]\n",
      "\u001b[A"
     ]
    },
    {
     "name": "stdout",
     "output_type": "stream",
     "text": [
      "{'eval_loss': 1.0880720615386963, 'eval_accuracy': 0.30851063829787234, 'eval_precision': 0.10283687943262411, 'eval_recall': 0.3333333333333333, 'eval_f1': 0.15718157181571815, 'eval_runtime': 2.6837, 'eval_samples_per_second': 35.026, 'eval_steps_per_second': 4.471, 'epoch': 2.0}\n"
     ]
    },
    {
     "name": "stderr",
     "output_type": "stream",
     "text": [
      " 30%|███       | 84/280 [01:14<02:00,  1.62it/s]\n",
      "\u001b[A\n",
      "\u001b[A\n",
      "\u001b[A\n",
      "\u001b[A\n",
      "\u001b[A\n",
      "\u001b[A\n",
      "\u001b[A\n",
      "\u001b[A\n",
      "\u001b[A\n",
      "\u001b[A\n",
      "\u001b[A\n",
      "\u001b[A\n",
      "\n",
      "                                                \n",
      "\u001b[A                                    \n",
      " 30%|███       | 84/280 [01:17<02:00,  1.62it/s]\n",
      "\u001b[A"
     ]
    },
    {
     "name": "stdout",
     "output_type": "stream",
     "text": [
      "{'eval_loss': 0.4565306305885315, 'eval_accuracy': 0.8404255319148937, 'eval_precision': 0.8411764705882353, 'eval_recall': 0.8436607123383281, 'eval_f1': 0.8422601049311083, 'eval_runtime': 2.6678, 'eval_samples_per_second': 35.235, 'eval_steps_per_second': 4.498, 'epoch': 3.0}\n"
     ]
    },
    {
     "name": "stderr",
     "output_type": "stream",
     "text": [
      " 40%|████      | 112/280 [01:38<01:43,  1.62it/s]\n",
      "\u001b[A\n",
      "\u001b[A\n",
      "\u001b[A\n",
      "\u001b[A\n",
      "\u001b[A\n",
      "\u001b[A\n",
      "\u001b[A\n",
      "\u001b[A\n",
      "\u001b[A\n",
      "\u001b[A\n",
      "\u001b[A\n",
      "\u001b[A\n",
      "\n",
      "                                                 \n",
      "\u001b[A                                    \n",
      " 40%|████      | 112/280 [01:41<01:43,  1.62it/s]\n",
      "\u001b[A"
     ]
    },
    {
     "name": "stdout",
     "output_type": "stream",
     "text": [
      "{'eval_loss': 0.41552871465682983, 'eval_accuracy': 0.8617021276595744, 'eval_precision': 0.8650840299547197, 'eval_recall': 0.8651660886824141, 'eval_f1': 0.8649963101841639, 'eval_runtime': 2.6719, 'eval_samples_per_second': 35.181, 'eval_steps_per_second': 4.491, 'epoch': 4.0}\n"
     ]
    },
    {
     "name": "stderr",
     "output_type": "stream",
     "text": [
      " 50%|█████     | 140/280 [02:02<01:26,  1.63it/s]\n",
      "\u001b[A\n",
      "\u001b[A\n",
      "\u001b[A\n",
      "\u001b[A\n",
      "\u001b[A\n",
      "\u001b[A\n",
      "\u001b[A\n",
      "\u001b[A\n",
      "\u001b[A\n",
      "\u001b[A\n",
      "\u001b[A\n",
      "\u001b[A\n",
      "\n",
      "                                                 \n",
      "\u001b[A                                    \n",
      " 50%|█████     | 140/280 [02:05<01:26,  1.63it/s]\n",
      "\u001b[A"
     ]
    },
    {
     "name": "stdout",
     "output_type": "stream",
     "text": [
      "{'eval_loss': 0.551285982131958, 'eval_accuracy': 0.8085106382978723, 'eval_precision': 0.8385598141695704, 'eval_recall': 0.8129730201313006, 'eval_f1': 0.8167064914376742, 'eval_runtime': 2.6531, 'eval_samples_per_second': 35.43, 'eval_steps_per_second': 4.523, 'epoch': 5.0}\n"
     ]
    },
    {
     "name": "stderr",
     "output_type": "stream",
     "text": [
      " 60%|██████    | 168/280 [02:26<01:09,  1.62it/s]\n",
      "\u001b[A\n",
      "\u001b[A\n",
      "\u001b[A\n",
      "\u001b[A\n",
      "\u001b[A\n",
      "\u001b[A\n",
      "\u001b[A\n",
      "\u001b[A\n",
      "\u001b[A\n",
      "\u001b[A\n",
      "\u001b[A\n",
      "\u001b[A\n",
      "\n",
      "                                                 \n",
      "\u001b[A                                    \n",
      " 60%|██████    | 168/280 [02:29<01:09,  1.62it/s]\n",
      "\u001b[A"
     ]
    },
    {
     "name": "stdout",
     "output_type": "stream",
     "text": [
      "{'eval_loss': 0.6107558608055115, 'eval_accuracy': 0.8723404255319149, 'eval_precision': 0.8783410138248847, 'eval_recall': 0.8749700102510415, 'eval_f1': 0.8764958211330102, 'eval_runtime': 2.6772, 'eval_samples_per_second': 35.112, 'eval_steps_per_second': 4.482, 'epoch': 6.0}\n"
     ]
    },
    {
     "name": "stderr",
     "output_type": "stream",
     "text": [
      " 70%|███████   | 196/280 [02:50<00:51,  1.62it/s]\n",
      "\u001b[A\n",
      "\u001b[A\n",
      "\u001b[A\n",
      "\u001b[A\n",
      "\u001b[A\n",
      "\u001b[A\n",
      "\u001b[A\n",
      "\u001b[A\n",
      "\u001b[A\n",
      "\u001b[A\n",
      "\u001b[A\n",
      "\u001b[A\n",
      "\n",
      "                                                 \n",
      "\u001b[A                                    \n",
      " 70%|███████   | 196/280 [02:53<00:51,  1.62it/s]\n",
      "\u001b[A"
     ]
    },
    {
     "name": "stdout",
     "output_type": "stream",
     "text": [
      "{'eval_loss': 0.6971310377120972, 'eval_accuracy': 0.8297872340425532, 'eval_precision': 0.8441558441558442, 'eval_recall': 0.83237366136666, 'eval_f1': 0.8363334840946782, 'eval_runtime': 2.7379, 'eval_samples_per_second': 34.333, 'eval_steps_per_second': 4.383, 'epoch': 7.0}\n"
     ]
    },
    {
     "name": "stderr",
     "output_type": "stream",
     "text": [
      " 80%|████████  | 224/280 [03:14<00:34,  1.62it/s]\n",
      "\u001b[A\n",
      "\u001b[A\n",
      "\u001b[A\n",
      "\u001b[A\n",
      "\u001b[A\n",
      "\u001b[A\n",
      "\u001b[A\n",
      "\u001b[A\n",
      "\u001b[A\n",
      "\u001b[A\n",
      "\u001b[A\n",
      "\u001b[A\n",
      "\n",
      "                                                 \n",
      "\u001b[A                                    \n",
      " 80%|████████  | 224/280 [03:16<00:34,  1.62it/s]\n",
      "\u001b[A"
     ]
    },
    {
     "name": "stdout",
     "output_type": "stream",
     "text": [
      "{'eval_loss': 0.6893373131752014, 'eval_accuracy': 0.8297872340425532, 'eval_precision': 0.8441558441558442, 'eval_recall': 0.83237366136666, 'eval_f1': 0.8363334840946782, 'eval_runtime': 2.6694, 'eval_samples_per_second': 35.214, 'eval_steps_per_second': 4.495, 'epoch': 8.0}\n"
     ]
    },
    {
     "name": "stderr",
     "output_type": "stream",
     "text": [
      " 90%|█████████ | 252/280 [03:38<00:17,  1.63it/s]\n",
      "\u001b[A\n",
      "\u001b[A\n",
      "\u001b[A\n",
      "\u001b[A\n",
      "\u001b[A\n",
      "\u001b[A\n",
      "\u001b[A\n",
      "\u001b[A\n",
      "\u001b[A\n",
      "\u001b[A\n",
      "\u001b[A\n",
      "\u001b[A\n",
      "\n",
      "                                                 \n",
      "\u001b[A                                    \n",
      " 90%|█████████ | 252/280 [03:40<00:17,  1.63it/s]\n",
      "\u001b[A"
     ]
    },
    {
     "name": "stdout",
     "output_type": "stream",
     "text": [
      "{'eval_loss': 0.785468339920044, 'eval_accuracy': 0.8297872340425532, 'eval_precision': 0.8441558441558442, 'eval_recall': 0.83237366136666, 'eval_f1': 0.8363334840946782, 'eval_runtime': 2.7216, 'eval_samples_per_second': 34.539, 'eval_steps_per_second': 4.409, 'epoch': 9.0}\n"
     ]
    },
    {
     "name": "stderr",
     "output_type": "stream",
     "text": [
      "100%|██████████| 280/280 [04:02<00:00,  1.64it/s]\n",
      "\u001b[A\n",
      "\u001b[A\n",
      "\u001b[A\n",
      "\u001b[A\n",
      "\u001b[A\n",
      "\u001b[A\n",
      "\u001b[A\n",
      "\u001b[A\n",
      "\u001b[A\n",
      "\u001b[A\n",
      "\u001b[A\n",
      "\u001b[A\n",
      "\n",
      "                                                 \n",
      "\u001b[A                                    \n",
      "100%|██████████| 280/280 [04:06<00:00,  1.64it/s]\n",
      "                                                 \n",
      "100%|██████████| 280/280 [04:06<00:00,  1.13it/s]"
     ]
    },
    {
     "name": "stdout",
     "output_type": "stream",
     "text": [
      "{'eval_loss': 0.7709857821464539, 'eval_accuracy': 0.8297872340425532, 'eval_precision': 0.8441558441558442, 'eval_recall': 0.83237366136666, 'eval_f1': 0.8363334840946782, 'eval_runtime': 2.7644, 'eval_samples_per_second': 34.003, 'eval_steps_per_second': 4.341, 'epoch': 10.0}\n",
      "{'train_runtime': 246.7565, 'train_samples_per_second': 8.835, 'train_steps_per_second': 1.135, 'train_loss': 0.35777220044817243, 'epoch': 10.0}\n"
     ]
    },
    {
     "name": "stderr",
     "output_type": "stream",
     "text": [
      "\n"
     ]
    },
    {
     "data": {
      "text/plain": [
       "TrainOutput(global_step=280, training_loss=0.35777220044817243, metrics={'train_runtime': 246.7565, 'train_samples_per_second': 8.835, 'train_steps_per_second': 1.135, 'total_flos': 517572870701040.0, 'train_loss': 0.35777220044817243, 'epoch': 10.0})"
      ]
     },
     "execution_count": 120,
     "metadata": {},
     "output_type": "execute_result"
    }
   ],
   "source": [
    "trainer.train()"
   ]
  },
  {
   "cell_type": "code",
   "execution_count": 121,
   "metadata": {},
   "outputs": [
    {
     "name": "stderr",
     "output_type": "stream",
     "text": [
      "100%|██████████| 12/12 [00:02<00:00,  4.81it/s]\n"
     ]
    }
   ],
   "source": [
    "evaluation_results = trainer.evaluate()"
   ]
  },
  {
   "cell_type": "code",
   "execution_count": 122,
   "metadata": {},
   "outputs": [
    {
     "data": {
      "text/plain": [
       "{'eval_loss': 0.7709857821464539,\n",
       " 'eval_accuracy': 0.8297872340425532,\n",
       " 'eval_precision': 0.8441558441558442,\n",
       " 'eval_recall': 0.83237366136666,\n",
       " 'eval_f1': 0.8363334840946782,\n",
       " 'eval_runtime': 2.8378,\n",
       " 'eval_samples_per_second': 33.124,\n",
       " 'eval_steps_per_second': 4.229,\n",
       " 'epoch': 10.0}"
      ]
     },
     "execution_count": 122,
     "metadata": {},
     "output_type": "execute_result"
    }
   ],
   "source": [
    "evaluation_results"
   ]
  },
  {
   "cell_type": "code",
   "execution_count": 123,
   "metadata": {},
   "outputs": [
    {
     "data": {
      "text/plain": [
       "True"
      ]
     },
     "execution_count": 123,
     "metadata": {},
     "output_type": "execute_result"
    }
   ],
   "source": [
    "from dotenv import load_dotenv\n",
    "load_dotenv()"
   ]
  },
  {
   "cell_type": "code",
   "execution_count": 124,
   "metadata": {},
   "outputs": [
    {
     "name": "stdout",
     "output_type": "stream",
     "text": [
      "The token has not been saved to the git credentials helper. Pass `add_to_git_credential=True` in this function directly or `--add-to-git-credential` if using via `huggingface-cli` if you want to set the git credential as well.\n",
      "Token is valid (permission: write).\n",
      "Your token has been saved to /Users/khalidrajan/.cache/huggingface/token\n",
      "Login successful\n"
     ]
    }
   ],
   "source": [
    "from huggingface_hub import login\n",
    "import os\n",
    "\n",
    "hf_token = os.environ[\"HF_TOKEN\"]\n",
    "login(token=hf_token)"
   ]
  },
  {
   "cell_type": "code",
   "execution_count": 125,
   "metadata": {},
   "outputs": [
    {
     "name": "stderr",
     "output_type": "stream",
     "text": [
      "Upload 2 LFS files:   0%|          | 0/2 [00:00<?, ?it/s]\n",
      "\u001b[A\n",
      "\n",
      "\u001b[A\u001b[A\n",
      "training_args.bin: 100%|██████████| 5.24k/5.24k [00:00<00:00, 34.9kB/s]\n",
      "\n",
      "\u001b[A\n",
      "\u001b[A\n",
      "\u001b[A\n",
      "\u001b[A\n",
      "\u001b[A\n",
      "\u001b[A\n",
      "\u001b[A\n",
      "\u001b[A\n",
      "\u001b[A\n",
      "\u001b[A\n",
      "\u001b[A\n",
      "\u001b[A\n",
      "\u001b[A\n",
      "\u001b[A\n",
      "\u001b[A\n",
      "\u001b[A\n",
      "\u001b[A\n",
      "\u001b[A\n",
      "\u001b[A\n",
      "\u001b[A\n",
      "\u001b[A\n",
      "\u001b[A\n",
      "\u001b[A\n",
      "\u001b[A\n",
      "\u001b[A\n",
      "\u001b[A\n",
      "\u001b[A\n",
      "\u001b[A\n",
      "\u001b[A\n",
      "\u001b[A\n",
      "\u001b[A\n",
      "\u001b[A\n",
      "\u001b[A\n",
      "\u001b[A\n",
      "\u001b[A\n",
      "\u001b[A\n",
      "\u001b[A\n",
      "\u001b[A\n",
      "\u001b[A\n",
      "\u001b[A\n",
      "\u001b[A\n",
      "\u001b[A\n",
      "\u001b[A\n",
      "\u001b[A\n",
      "\u001b[A\n",
      "\u001b[A\n",
      "\u001b[A\n",
      "\u001b[A\n",
      "\u001b[A\n",
      "\u001b[A\n",
      "\u001b[A\n",
      "\u001b[A\n",
      "\u001b[A\n",
      "\u001b[A\n",
      "\u001b[A\n",
      "\u001b[A\n",
      "\u001b[A\n",
      "\u001b[A\n",
      "\u001b[A\n",
      "\u001b[A\n",
      "\u001b[A\n",
      "\u001b[A\n",
      "\u001b[A\n",
      "\u001b[A\n",
      "\u001b[A\n",
      "\u001b[A\n",
      "\u001b[A\n",
      "\u001b[A\n",
      "\u001b[A\n",
      "\u001b[A\n",
      "\u001b[A\n",
      "\u001b[A\n",
      "\u001b[A\n",
      "\u001b[A\n",
      "\u001b[A\n",
      "\u001b[A\n",
      "\u001b[A\n",
      "\u001b[A\n",
      "\u001b[A\n",
      "\u001b[A\n",
      "\u001b[A\n",
      "\u001b[A\n",
      "\u001b[A\n",
      "\u001b[A\n",
      "\u001b[A\n",
      "\u001b[A\n",
      "\u001b[A\n",
      "\u001b[A\n",
      "\u001b[A\n",
      "\u001b[A\n",
      "\u001b[A\n",
      "\u001b[A\n",
      "\u001b[A\n",
      "\u001b[A\n",
      "\u001b[A\n",
      "model.safetensors: 100%|██████████| 499M/499M [00:15<00:00, 32.7MB/s]\n",
      "Upload 2 LFS files: 100%|██████████| 2/2 [00:15<00:00,  7.71s/it]\n"
     ]
    },
    {
     "data": {
      "text/plain": [
       "CommitInfo(commit_url='https://huggingface.co/khalidrajan/roberta-base_legal_nli_finetuned/commit/9b84002518dcc97e113c8373eb3808374277d7f4', commit_message='End of training', commit_description='', oid='9b84002518dcc97e113c8373eb3808374277d7f4', pr_url=None, pr_revision=None, pr_num=None)"
      ]
     },
     "execution_count": 125,
     "metadata": {},
     "output_type": "execute_result"
    }
   ],
   "source": [
    "trainer.push_to_hub()"
   ]
  },
  {
   "cell_type": "code",
   "execution_count": null,
   "metadata": {},
   "outputs": [],
   "source": []
  }
 ],
 "metadata": {
  "kernelspec": {
   "display_name": "nli_task",
   "language": "python",
   "name": "python3"
  },
  "language_info": {
   "codemirror_mode": {
    "name": "ipython",
    "version": 3
   },
   "file_extension": ".py",
   "mimetype": "text/x-python",
   "name": "python",
   "nbconvert_exporter": "python",
   "pygments_lexer": "ipython3",
   "version": "3.12.4"
  }
 },
 "nbformat": 4,
 "nbformat_minor": 2
}
